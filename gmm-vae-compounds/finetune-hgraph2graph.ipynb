{
 "cells": [
  {
   "cell_type": "markdown",
   "source": [
    "This notebook performs a finetuning of hgraph2graph model on new data.\n",
    "\n",
    "To run the notebook:\n",
    "1. Extract SMILES from sensitivity table using `gmm-vae-compounds/utils/utils.sensitivity_table_to_smiles_representation` and\n",
    "    save it to `gmm-vae-compounds/models/hgraph2graph/data/vadeers`.\n",
    "2. Supply `gmm-vae-compounds/models/hgraph2graph/data/vadeers` with a vocabulary.\n",
    "\n",
    "Note that in this notebook hyperparameters were changed to fit into GPU's memory.\n",
    "\n"
   ],
   "metadata": {
    "collapsed": false
   }
  },
  {
   "cell_type": "code",
   "execution_count": 1,
   "outputs": [
    {
     "name": "stderr",
     "output_type": "stream",
     "text": [
      "/home/adam/miniconda3/envs/hgraph2graph/lib/python3.8/site-packages/tqdm/auto.py:22: TqdmWarning: IProgress not found. Please update jupyter and ipywidgets. See https://ipywidgets.readthedocs.io/en/stable/user_install.html\n",
      "  from .autonotebook import tqdm as notebook_tqdm\n"
     ]
    }
   ],
   "source": [
    "import os\n",
    "os.chdir('/home/adam/Projects/vadeers/code/gmm-vae-compounds/models/hgraph2graph/')\n",
    "\n",
    "import torch\n",
    "import torch.nn as nn\n",
    "import torch.optim as optim\n",
    "import torch.optim.lr_scheduler as lr_scheduler\n",
    "from torch.utils.data import DataLoader\n",
    "\n",
    "import rdkit\n",
    "from rdkit import Chem, DataStructs\n",
    "from rdkit.Chem import AllChem\n",
    "\n",
    "import math, random, sys\n",
    "import numpy as np\n",
    "import argparse\n",
    "import os\n",
    "from tqdm.auto import tqdm\n",
    "\n",
    "\n",
    "import models.hgraph2graph.hgraph\n",
    "from models.hgraph2graph.hgraph import HierVAE, common_atom_vocab, PairVocab\n",
    "#from chemprop.train import predict\n",
    "##from models.hgraph2graph.hgraph.chemprop.data import MoleculeDataset, MoleculeDataLoader\n",
    "#from models.hgraph2graph.hgraph.chemprop.data.utils import get_data, get_data_from_smiles\n",
    "#from models.hgraph2graph.hgraph.chemprop.utils import load_args, load_checkpoint, load_scalers\n",
    "\n",
    "\n",
    "param_norm = lambda m: math.sqrt(sum([p.norm().item() ** 2 for p in m.parameters()]))\n",
    "grad_norm = lambda m: math.sqrt(sum([p.grad.norm().item() ** 2 for p in m.parameters() if p.grad is not None]))"
   ],
   "metadata": {
    "collapsed": false
   }
  },
  {
   "cell_type": "code",
   "execution_count": 2,
   "outputs": [
    {
     "name": "stdout",
     "output_type": "stream",
     "text": [
      "Namespace(atom_vocab=<hgraph.vocab.Vocab object at 0x7effc954ce50>, batch_size=2, clip_norm=5.0, depthG=15, depthT=15, diterG=3, diterT=1, dropout=0.0, embed_size=250, epoch=2, generative_model='ckpt/chembl-pretrained/model.ckpt', hidden_size=250, inner_epoch=2, latent_size=32, lr=0.001, max_similarity=0.5, min_similarity=0.1, nsample=10, rnn_type='LSTM', save_dir='ckpt/finetune', seed=7, threshold=0.3, train='data/vadeers/smiles.txt', vocab='data/chembl/vocab.txt')\n"
     ]
    }
   ],
   "source": [
    "\n",
    "lg = rdkit.RDLogger.logger()\n",
    "lg.setLevel(rdkit.RDLogger.CRITICAL)\n",
    "\n",
    "parser = argparse.ArgumentParser()\n",
    "parser.add_argument('--train', default='data/vadeers/smiles.txt')\n",
    "parser.add_argument('--vocab', default='data/chembl/vocab.txt')\n",
    "parser.add_argument('--atom_vocab', default=common_atom_vocab)\n",
    "parser.add_argument('--save_dir', default='ckpt/finetune')\n",
    "parser.add_argument('--generative_model', default='ckpt/chembl-pretrained/model.ckpt')\n",
    "#parser.add_argument('--chemprop_model', required=True)\n",
    "parser.add_argument('--seed', type=int, default=7)\n",
    "\n",
    "parser.add_argument('--rnn_type', type=str, default='LSTM')\n",
    "parser.add_argument('--hidden_size', type=int, default=250)\n",
    "parser.add_argument('--embed_size', type=int, default=250)\n",
    "parser.add_argument('--batch_size', type=int, default=2)\n",
    "parser.add_argument('--latent_size', type=int, default=32)\n",
    "parser.add_argument('--depthT', type=int, default=15)\n",
    "parser.add_argument('--depthG', type=int, default=15)\n",
    "parser.add_argument('--diterT', type=int, default=1)\n",
    "parser.add_argument('--diterG', type=int, default=3)\n",
    "parser.add_argument('--dropout', type=float, default=0.0)\n",
    "\n",
    "parser.add_argument('--lr', type=float, default=1e-3)\n",
    "parser.add_argument('--clip_norm', type=float, default=5.0)\n",
    "parser.add_argument('--epoch', type=int, default=2)\n",
    "parser.add_argument('--inner_epoch', type=int, default=2)\n",
    "parser.add_argument('--threshold', type=float, default=0.3)\n",
    "parser.add_argument('--min_similarity', type=float, default=0.1)\n",
    "parser.add_argument('--max_similarity', type=float, default=0.5)\n",
    "parser.add_argument('--nsample', type=int, default=10)\n",
    "\n",
    "args = parser.parse_args([])\n",
    "print(args)\n",
    "\n",
    "torch.manual_seed(args.seed)\n",
    "random.seed(args.seed)\n"
   ],
   "metadata": {
    "collapsed": false
   }
  },
  {
   "cell_type": "code",
   "execution_count": 3,
   "outputs": [],
   "source": [
    "with open(args.train) as f:\n",
    "    train_smiles = [line.strip(\"\\r\\n \") for line in f]"
   ],
   "metadata": {
    "collapsed": false
   }
  },
  {
   "cell_type": "code",
   "execution_count": 4,
   "outputs": [],
   "source": [
    "vocab = [x.strip(\"\\r\\n \").split() for x in open(args.vocab)]\n",
    "args.vocab = PairVocab(vocab)"
   ],
   "metadata": {
    "collapsed": false
   }
  },
  {
   "cell_type": "code",
   "execution_count": 5,
   "outputs": [],
   "source": [
    "good_smiles = train_smiles\n",
    "train_mol = [Chem.MolFromSmiles(s) for s in train_smiles]\n",
    "train_fps = [AllChem.GetMorganFingerprintAsBitVect(x, 2, 2048) for x in train_mol]"
   ],
   "metadata": {
    "collapsed": false
   }
  },
  {
   "cell_type": "code",
   "execution_count": 6,
   "outputs": [
    {
     "name": "stdout",
     "output_type": "stream",
     "text": [
      "CS(=O)(=O)C1=CC=C(C=C1)C2=CN=C(C(=N2)C(=O)NC3=CC=CC=C3)N\n"
     ]
    },
    {
     "data": {
      "text/plain": "<rdkit.Chem.rdchem.Mol at 0x7effc7f8a640>",
      "image/png": "[encoded data removed]"
     },
     "execution_count": 6,
     "metadata": {},
     "output_type": "execute_result"
    }
   ],
   "source": [
    "IDX = -1\n",
    "print(good_smiles[IDX])\n",
    "train_mol[IDX]"
   ],
   "metadata": {
    "collapsed": false
   }
  },
  {
   "cell_type": "code",
   "execution_count": 7,
   "outputs": [
    {
     "name": "stdout",
     "output_type": "stream",
     "text": [
      "Loading from checkpoint ckpt/chembl-pretrained/model.ckpt\n"
     ]
    },
    {
     "name": "stderr",
     "output_type": "stream",
     "text": [
      "/home/adam/miniconda3/envs/hgraph2graph/lib/python3.8/site-packages/torch/nn/_reduction.py:42: UserWarning: size_average and reduce args will be deprecated, please use reduction='sum' instead.\n",
      "  warnings.warn(warning.format(ret))\n"
     ]
    }
   ],
   "source": [
    "model = HierVAE(args).cuda()\n",
    "optimizer = optim.Adam(model.parameters(), lr=args.lr)\n",
    "\n",
    "print('Loading from checkpoint ' + args.generative_model)\n",
    "model_state, optimizer_state, _, beta = torch.load(args.generative_model)\n",
    "model.load_state_dict(model_state)\n",
    "optimizer.load_state_dict(optimizer_state)"
   ],
   "metadata": {
    "collapsed": false
   }
  },
  {
   "cell_type": "code",
   "execution_count": 8,
   "outputs": [
    {
     "ename": "AssertionError",
     "evalue": "",
     "output_type": "error",
     "traceback": [
      "\u001B[0;31m---------------------------------------------------------------------------\u001B[0m",
      "\u001B[0;31mAssertionError\u001B[0m                            Traceback (most recent call last)",
      "Cell \u001B[0;32mIn [8], line 4\u001B[0m\n\u001B[1;32m      2\u001B[0m good_smiles \u001B[38;5;241m=\u001B[39m \u001B[38;5;28msorted\u001B[39m(\u001B[38;5;28mset\u001B[39m(good_smiles))\n\u001B[1;32m      3\u001B[0m random\u001B[38;5;241m.\u001B[39mshuffle(good_smiles)\n\u001B[0;32m----> 4\u001B[0m dataset \u001B[38;5;241m=\u001B[39m \u001B[43mmodels\u001B[49m\u001B[38;5;241;43m.\u001B[39;49m\u001B[43mhgraph2graph\u001B[49m\u001B[38;5;241;43m.\u001B[39;49m\u001B[43mhgraph\u001B[49m\u001B[38;5;241;43m.\u001B[39;49m\u001B[43mMoleculeDataset\u001B[49m\u001B[43m(\u001B[49m\u001B[43mgood_smiles\u001B[49m\u001B[43m,\u001B[49m\u001B[43m \u001B[49m\u001B[43margs\u001B[49m\u001B[38;5;241;43m.\u001B[39;49m\u001B[43mvocab\u001B[49m\u001B[43m,\u001B[49m\u001B[43m \u001B[49m\u001B[43margs\u001B[49m\u001B[38;5;241;43m.\u001B[39;49m\u001B[43matom_vocab\u001B[49m\u001B[43m,\u001B[49m\u001B[43m \u001B[49m\u001B[43margs\u001B[49m\u001B[38;5;241;43m.\u001B[39;49m\u001B[43mbatch_size\u001B[49m\u001B[43m)\u001B[49m\n\u001B[1;32m      6\u001B[0m \u001B[38;5;28mprint\u001B[39m(\u001B[38;5;124mf\u001B[39m\u001B[38;5;124m'\u001B[39m\u001B[38;5;124mEpoch \u001B[39m\u001B[38;5;132;01m{\u001B[39;00mepoch\u001B[38;5;132;01m}\u001B[39;00m\u001B[38;5;124m training...\u001B[39m\u001B[38;5;124m'\u001B[39m)\n\u001B[1;32m      7\u001B[0m \u001B[38;5;28;01mfor\u001B[39;00m _ \u001B[38;5;129;01min\u001B[39;00m \u001B[38;5;28mrange\u001B[39m(args\u001B[38;5;241m.\u001B[39minner_epoch):\n",
      "File \u001B[0;32m~/Projects/vadeers/code/gmm-vae-compounds/models/hgraph2graph/hgraph/dataset.py:16\u001B[0m, in \u001B[0;36mMoleculeDataset.__init__\u001B[0;34m(self, data, vocab, avocab, batch_size)\u001B[0m\n\u001B[1;32m     14\u001B[0m safe_data \u001B[38;5;241m=\u001B[39m []\n\u001B[1;32m     15\u001B[0m \u001B[38;5;28;01mfor\u001B[39;00m mol_s \u001B[38;5;129;01min\u001B[39;00m data:\n\u001B[0;32m---> 16\u001B[0m     hmol \u001B[38;5;241m=\u001B[39m \u001B[43mMolGraph\u001B[49m\u001B[43m(\u001B[49m\u001B[43mmol_s\u001B[49m\u001B[43m)\u001B[49m\n\u001B[1;32m     17\u001B[0m     ok \u001B[38;5;241m=\u001B[39m \u001B[38;5;28;01mTrue\u001B[39;00m\n\u001B[1;32m     18\u001B[0m     \u001B[38;5;28;01mfor\u001B[39;00m node,attr \u001B[38;5;129;01min\u001B[39;00m hmol\u001B[38;5;241m.\u001B[39mmol_tree\u001B[38;5;241m.\u001B[39mnodes(data\u001B[38;5;241m=\u001B[39m\u001B[38;5;28;01mTrue\u001B[39;00m):\n",
      "File \u001B[0;32m~/Projects/vadeers/code/gmm-vae-compounds/models/hgraph2graph/hgraph/mol_graph.py:21\u001B[0m, in \u001B[0;36mMolGraph.__init__\u001B[0;34m(self, smiles)\u001B[0m\n\u001B[1;32m     19\u001B[0m \u001B[38;5;28mself\u001B[39m\u001B[38;5;241m.\u001B[39mmol_graph \u001B[38;5;241m=\u001B[39m \u001B[38;5;28mself\u001B[39m\u001B[38;5;241m.\u001B[39mbuild_mol_graph()\n\u001B[1;32m     20\u001B[0m \u001B[38;5;28mself\u001B[39m\u001B[38;5;241m.\u001B[39mclusters, \u001B[38;5;28mself\u001B[39m\u001B[38;5;241m.\u001B[39matom_cls \u001B[38;5;241m=\u001B[39m \u001B[38;5;28mself\u001B[39m\u001B[38;5;241m.\u001B[39mfind_clusters()\n\u001B[0;32m---> 21\u001B[0m \u001B[38;5;28mself\u001B[39m\u001B[38;5;241m.\u001B[39mmol_tree \u001B[38;5;241m=\u001B[39m \u001B[38;5;28;43mself\u001B[39;49m\u001B[38;5;241;43m.\u001B[39;49m\u001B[43mtree_decomp\u001B[49m\u001B[43m(\u001B[49m\u001B[43m)\u001B[49m\n\u001B[1;32m     22\u001B[0m \u001B[38;5;28mself\u001B[39m\u001B[38;5;241m.\u001B[39morder \u001B[38;5;241m=\u001B[39m \u001B[38;5;28mself\u001B[39m\u001B[38;5;241m.\u001B[39mlabel_tree()\n",
      "File \u001B[0;32m~/Projects/vadeers/code/gmm-vae-compounds/models/hgraph2graph/hgraph/mol_graph.py:82\u001B[0m, in \u001B[0;36mMolGraph.tree_decomp\u001B[0;34m(self)\u001B[0m\n\u001B[1;32m     79\u001B[0m                 graph\u001B[38;5;241m.\u001B[39madd_edge(c1, c2, weight \u001B[38;5;241m=\u001B[39m \u001B[38;5;28mlen\u001B[39m(inter))\n\u001B[1;32m     81\u001B[0m n, m \u001B[38;5;241m=\u001B[39m \u001B[38;5;28mlen\u001B[39m(graph\u001B[38;5;241m.\u001B[39mnodes), \u001B[38;5;28mlen\u001B[39m(graph\u001B[38;5;241m.\u001B[39medges)\n\u001B[0;32m---> 82\u001B[0m \u001B[38;5;28;01massert\u001B[39;00m n \u001B[38;5;241m-\u001B[39m m \u001B[38;5;241m<\u001B[39m\u001B[38;5;241m=\u001B[39m \u001B[38;5;241m1\u001B[39m \u001B[38;5;66;03m#must be connected\u001B[39;00m\n\u001B[1;32m     83\u001B[0m \u001B[38;5;28;01mreturn\u001B[39;00m graph \u001B[38;5;28;01mif\u001B[39;00m n \u001B[38;5;241m-\u001B[39m m \u001B[38;5;241m==\u001B[39m \u001B[38;5;241m1\u001B[39m \u001B[38;5;28;01melse\u001B[39;00m nx\u001B[38;5;241m.\u001B[39mmaximum_spanning_tree(graph)\n",
      "\u001B[0;31mAssertionError\u001B[0m: "
     ]
    }
   ],
   "source": [
    "for epoch in range(args.epoch):\n",
    "    good_smiles = sorted(set(good_smiles))\n",
    "    random.shuffle(good_smiles)\n",
    "    dataset = models.hgraph2graph.hgraph.MoleculeDataset(good_smiles, args.vocab, args.atom_vocab, args.batch_size)\n",
    "\n",
    "    print(f'Epoch {epoch} training...')\n",
    "    for _ in range(args.inner_epoch):\n",
    "        meters = np.zeros(6)\n",
    "        dataloader = DataLoader(dataset, batch_size=1, collate_fn=lambda x:x[0], shuffle=True, num_workers=4)\n",
    "        for batch in tqdm(dataloader):\n",
    "            model.zero_grad()\n",
    "            loss, kl_div, wacc, iacc, tacc, sacc = model(*batch, beta=beta)\n",
    "            loss.backward()\n",
    "            nn.utils.clip_grad_norm_(model.parameters(), args.clip_norm)\n",
    "            optimizer.step()\n",
    "            meters = meters + np.array([kl_div, loss.item(), wacc.cpu() * 100, iacc.cpu() * 100, tacc.cpu() * 100, sacc.cpu() * 100])\n",
    "\n",
    "        meters /= len(dataset)\n",
    "        print(\"Beta: %.3f, KL: %.2f, loss: %.3f, Word: %.2f, %.2f, Topo: %.2f, Assm: %.2f, PNorm: %.2f, GNorm: %.2f\" % (beta, meters[0], meters[1], meters[2], meters[3], meters[4], meters[5], param_norm(model), grad_norm(model)))\n",
    "\n",
    "    ckpt = (model.state_dict(), optimizer.state_dict(), epoch, beta)\n",
    "    torch.save(ckpt, os.path.join(args.save_dir, f\"model.ckpt.{epoch}\"))\n",
    "\n",
    "    # Evaluate\n",
    "\n",
    "    print(f'Epoch {epoch} decoding...')\n",
    "    decoded_smiles = []\n",
    "    with torch.no_grad():\n",
    "        for _ in tqdm(range(args.nsample // args.batch_size)):\n",
    "            outputs = model.sample(args.batch_size, greedy=True)\n",
    "            decoded_smiles.extend(outputs)\n"
   ],
   "metadata": {
    "collapsed": false
   }
  },
  {
   "cell_type": "code",
   "execution_count": 12,
   "outputs": [
    {
     "data": {
      "text/plain": "'CC(C)(C)C(NC(=O)C1(c2ccccc2)CCCCC1)C(=O)O'"
     },
     "execution_count": 12,
     "metadata": {},
     "output_type": "execute_result"
    }
   ],
   "source": [
    "decoded_smiles[0]"
   ],
   "metadata": {
    "collapsed": false
   }
  },
  {
   "cell_type": "markdown",
   "source": [
    "#### ToDo's:\n",
    "1. The above loop works with SMILES strings provided as the default data set, but does not work with SMILES provided by Krzyś. This is an open issue in the repo and other people seem to struggle with it as well.\n",
    "\n",
    "#### Questions?\n",
    "\n",
    "1. It seems that fine-tuning uses raw SMILES as input while training from scratch requires a different loader with processed SMILES. Why is that?\n",
    "2. What are the other metrics: `wacc`, `iacc`, `tacc`, `sacc`?"
   ],
   "metadata": {
    "collapsed": false
   }
  },
  {
   "cell_type": "code",
   "execution_count": null,
   "outputs": [],
   "source": [],
   "metadata": {
    "collapsed": false
   }
  }
 ],
 "metadata": {
  "kernelspec": {
   "display_name": "Python 3",
   "language": "python",
   "name": "python3"
  },
  "language_info": {
   "codemirror_mode": {
    "name": "ipython",
    "version": 2
   },
   "file_extension": ".py",
   "mimetype": "text/x-python",
   "name": "python",
   "nbconvert_exporter": "python",
   "pygments_lexer": "ipython2",
   "version": "2.7.6"
  }
 },
 "nbformat": 4,
 "nbformat_minor": 0
}
